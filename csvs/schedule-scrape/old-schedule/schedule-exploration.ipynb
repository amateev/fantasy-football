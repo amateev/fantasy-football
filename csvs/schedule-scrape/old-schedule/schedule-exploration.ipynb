{
 "cells": [
  {
   "cell_type": "code",
   "execution_count": 2,
   "metadata": {
    "collapsed": false
   },
   "outputs": [],
   "source": [
    "# goal of this python notebook is to explore schedule data\n",
    "# with csv containing nfl 2017 schedule data"
   ]
  },
  {
   "cell_type": "code",
   "execution_count": 3,
   "metadata": {
    "collapsed": false
   },
   "outputs": [],
   "source": [
    "# Dependencies\n",
    "import pandas as pd\n",
    "import numpy as np"
   ]
  },
  {
   "cell_type": "code",
   "execution_count": 4,
   "metadata": {
    "collapsed": false
   },
   "outputs": [],
   "source": [
    "# where is CSV\n",
    "nfl_csv = \"nfl-schedule-2017.csv\""
   ]
  },
  {
   "cell_type": "code",
   "execution_count": 5,
   "metadata": {
    "collapsed": false
   },
   "outputs": [
    {
     "data": {
      "text/html": [
       "<div>\n",
       "<style>\n",
       "    .dataframe thead tr:only-child th {\n",
       "        text-align: right;\n",
       "    }\n",
       "\n",
       "    .dataframe thead th {\n",
       "        text-align: left;\n",
       "    }\n",
       "\n",
       "    .dataframe tbody tr th {\n",
       "        vertical-align: top;\n",
       "    }\n",
       "</style>\n",
       "<table border=\"1\" class=\"dataframe\">\n",
       "  <thead>\n",
       "    <tr style=\"text-align: right;\">\n",
       "      <th></th>\n",
       "      <th>week</th>\n",
       "      <th>team1</th>\n",
       "      <th>team2</th>\n",
       "      <th>home</th>\n",
       "      <th>what row do we find team1 in team2</th>\n",
       "      <th>what is team 2 in the previous row</th>\n",
       "      <th>does team1 in first row = team2 in dup row?</th>\n",
       "      <th>row number</th>\n",
       "    </tr>\n",
       "  </thead>\n",
       "  <tbody>\n",
       "    <tr>\n",
       "      <th>0</th>\n",
       "      <td>1</td>\n",
       "      <td>ARI</td>\n",
       "      <td>DET</td>\n",
       "      <td>False</td>\n",
       "      <td>12</td>\n",
       "      <td>ARI</td>\n",
       "      <td>True</td>\n",
       "      <td>2</td>\n",
       "    </tr>\n",
       "    <tr>\n",
       "      <th>1</th>\n",
       "      <td>1</td>\n",
       "      <td>ATL</td>\n",
       "      <td>CHI</td>\n",
       "      <td>False</td>\n",
       "      <td>7</td>\n",
       "      <td>ATL</td>\n",
       "      <td>True</td>\n",
       "      <td>3</td>\n",
       "    </tr>\n",
       "    <tr>\n",
       "      <th>2</th>\n",
       "      <td>1</td>\n",
       "      <td>BAL</td>\n",
       "      <td>CIN</td>\n",
       "      <td>False</td>\n",
       "      <td>8</td>\n",
       "      <td>BAL</td>\n",
       "      <td>True</td>\n",
       "      <td>4</td>\n",
       "    </tr>\n",
       "    <tr>\n",
       "      <th>3</th>\n",
       "      <td>1</td>\n",
       "      <td>BUF</td>\n",
       "      <td>NYJ</td>\n",
       "      <td>True</td>\n",
       "      <td>25</td>\n",
       "      <td>BUF</td>\n",
       "      <td>True</td>\n",
       "      <td>5</td>\n",
       "    </tr>\n",
       "    <tr>\n",
       "      <th>4</th>\n",
       "      <td>1</td>\n",
       "      <td>CAR</td>\n",
       "      <td>SF</td>\n",
       "      <td>False</td>\n",
       "      <td>30</td>\n",
       "      <td>CAR</td>\n",
       "      <td>True</td>\n",
       "      <td>6</td>\n",
       "    </tr>\n",
       "  </tbody>\n",
       "</table>\n",
       "</div>"
      ],
      "text/plain": [
       "   week team1 team2   home  what row do we find team1 in team2  \\\n",
       "0     1   ARI   DET  False                                  12   \n",
       "1     1   ATL   CHI  False                                   7   \n",
       "2     1   BAL   CIN  False                                   8   \n",
       "3     1   BUF   NYJ   True                                  25   \n",
       "4     1   CAR    SF  False                                  30   \n",
       "\n",
       "  what is team 2 in the previous row  \\\n",
       "0                                ARI   \n",
       "1                                ATL   \n",
       "2                                BAL   \n",
       "3                                BUF   \n",
       "4                                CAR   \n",
       "\n",
       "   does team1 in first row = team2 in dup row?  row number  \n",
       "0                                         True           2  \n",
       "1                                         True           3  \n",
       "2                                         True           4  \n",
       "3                                         True           5  \n",
       "4                                         True           6  "
      ]
     },
     "execution_count": 5,
     "metadata": {},
     "output_type": "execute_result"
    }
   ],
   "source": [
    "# Read with pandas\n",
    "nfl_csv_df = pd.read_csv(nfl_csv, sep='\\t', encoding=\"iso-8859-1\", low_memory=\"False\")\n",
    "nfl_csv_df.head()"
   ]
  },
  {
   "cell_type": "code",
   "execution_count": 6,
   "metadata": {
    "collapsed": false
   },
   "outputs": [
    {
     "data": {
      "text/plain": [
       "Index(['week', 'team1', 'team2', 'home', 'what row do we find team1 in team2',\n",
       "       'what is team 2 in the previous row',\n",
       "       'does team1 in first row = team2 in dup row?', 'row number'],\n",
       "      dtype='object')"
      ]
     },
     "execution_count": 6,
     "metadata": {},
     "output_type": "execute_result"
    }
   ],
   "source": [
    "# explore columns\n",
    "nfl_csv_df.columns"
   ]
  },
  {
   "cell_type": "code",
   "execution_count": 7,
   "metadata": {
    "collapsed": false
   },
   "outputs": [
    {
     "data": {
      "text/plain": [
       "544"
      ]
     },
     "execution_count": 7,
     "metadata": {},
     "output_type": "execute_result"
    }
   ],
   "source": [
    "# how many games do we have?\n",
    "len(nfl_csv_df)"
   ]
  },
  {
   "cell_type": "code",
   "execution_count": 8,
   "metadata": {
    "collapsed": false
   },
   "outputs": [
    {
     "data": {
      "text/plain": [
       "544"
      ]
     },
     "execution_count": 8,
     "metadata": {},
     "output_type": "execute_result"
    }
   ],
   "source": [
    "#number of games including bye weeks\n",
    "# num of teams * total weeks\n",
    "32*17"
   ]
  },
  {
   "cell_type": "code",
   "execution_count": 9,
   "metadata": {
    "collapsed": false
   },
   "outputs": [
    {
     "data": {
      "text/plain": [
       "512"
      ]
     },
     "execution_count": 9,
     "metadata": {},
     "output_type": "execute_result"
    }
   ],
   "source": [
    "#number of games not including bye weeks\n",
    "# num of teams * (total weeks - 1 bye week)\n",
    "32*16"
   ]
  },
  {
   "cell_type": "code",
   "execution_count": 10,
   "metadata": {
    "collapsed": false
   },
   "outputs": [
    {
     "data": {
      "text/plain": [
       "256.0"
      ]
     },
     "execution_count": 10,
     "metadata": {},
     "output_type": "execute_result"
    }
   ],
   "source": [
    "# teams play each other so it's more like \n",
    "# num of teams / 2 * (total weeks - 1 bye week)\n",
    "32/2*16"
   ]
  },
  {
   "cell_type": "code",
   "execution_count": 11,
   "metadata": {
    "collapsed": false
   },
   "outputs": [
    {
     "data": {
      "text/plain": [
       "272.0"
      ]
     },
     "execution_count": 11,
     "metadata": {},
     "output_type": "execute_result"
    }
   ],
   "source": [
    "# teams play each other so it's more like \n",
    "# num of teams / 2 * total weeks\n",
    "32/2*17"
   ]
  },
  {
   "cell_type": "code",
   "execution_count": 12,
   "metadata": {
    "collapsed": false
   },
   "outputs": [
    {
     "data": {
      "text/plain": [
       "17    32\n",
       "8     32\n",
       "2     32\n",
       "3     32\n",
       "4     32\n",
       "5     32\n",
       "6     32\n",
       "7     32\n",
       "9     32\n",
       "16    32\n",
       "10    32\n",
       "11    32\n",
       "12    32\n",
       "13    32\n",
       "14    32\n",
       "15    32\n",
       "1     32\n",
       "Name: week, dtype: int64"
      ]
     },
     "execution_count": 12,
     "metadata": {},
     "output_type": "execute_result"
    }
   ],
   "source": [
    "nfl_csv_df['week'].value_counts()"
   ]
  },
  {
   "cell_type": "code",
   "execution_count": 13,
   "metadata": {
    "collapsed": false
   },
   "outputs": [
    {
     "data": {
      "text/plain": [
       "PIT    17\n",
       "NYG    17\n",
       "MIA    17\n",
       "IND    17\n",
       "LAR    17\n",
       "CIN    17\n",
       "KC     17\n",
       "NE     17\n",
       "DEN    17\n",
       "DET    17\n",
       "SF     17\n",
       "CHI    17\n",
       "ATL    17\n",
       "WAS    17\n",
       "TEN    17\n",
       "JAC    17\n",
       "HOU    17\n",
       "CAR    17\n",
       "GB     17\n",
       "BUF    17\n",
       "TB     17\n",
       "MIN    17\n",
       "DAL    17\n",
       "ARI    17\n",
       "BAL    17\n",
       "PHI    17\n",
       "NYJ    17\n",
       "CLE    17\n",
       "NO     17\n",
       "OAK    17\n",
       "LAC    17\n",
       "SEA    17\n",
       "Name: team1, dtype: int64"
      ]
     },
     "execution_count": 13,
     "metadata": {},
     "output_type": "execute_result"
    }
   ],
   "source": [
    "nfl_csv_df['team1'].value_counts()"
   ]
  },
  {
   "cell_type": "code",
   "execution_count": 14,
   "metadata": {
    "collapsed": false
   },
   "outputs": [
    {
     "data": {
      "text/plain": [
       "[1, 2, 3, 4, 5, 6, 7, 8, 9, 10, 11, 12, 13, 14, 15, 16, 17]"
      ]
     },
     "execution_count": 14,
     "metadata": {},
     "output_type": "execute_result"
    }
   ],
   "source": [
    "weeks = range(1,18)\n",
    "list(weeks)"
   ]
  },
  {
   "cell_type": "code",
   "execution_count": 15,
   "metadata": {
    "collapsed": false
   },
   "outputs": [
    {
     "data": {
      "text/plain": [
       "32"
      ]
     },
     "execution_count": 15,
     "metadata": {},
     "output_type": "execute_result"
    }
   ],
   "source": [
    "only_week_1_booleans = nfl_csv_df['week'] == 1\n",
    "only_week_1_df = nfl_csv_df[only_week_1_booleans]\n",
    "len(only_week_1_df)"
   ]
  },
  {
   "cell_type": "code",
   "execution_count": 29,
   "metadata": {
    "collapsed": false
   },
   "outputs": [
    {
     "data": {
      "text/html": [
       "<div>\n",
       "<style>\n",
       "    .dataframe thead tr:only-child th {\n",
       "        text-align: right;\n",
       "    }\n",
       "\n",
       "    .dataframe thead th {\n",
       "        text-align: left;\n",
       "    }\n",
       "\n",
       "    .dataframe tbody tr th {\n",
       "        vertical-align: top;\n",
       "    }\n",
       "</style>\n",
       "<table border=\"1\" class=\"dataframe\">\n",
       "  <thead>\n",
       "    <tr style=\"text-align: right;\">\n",
       "      <th></th>\n",
       "      <th>week</th>\n",
       "      <th>team1</th>\n",
       "      <th>team2</th>\n",
       "      <th>home</th>\n",
       "      <th>what row do we find team1 in team2</th>\n",
       "      <th>what is team 2 in the previous row</th>\n",
       "      <th>does team1 in first row = team2 in dup row?</th>\n",
       "      <th>row number</th>\n",
       "    </tr>\n",
       "  </thead>\n",
       "  <tbody>\n",
       "    <tr>\n",
       "      <th>0</th>\n",
       "      <td>1</td>\n",
       "      <td>ARI</td>\n",
       "      <td>DET</td>\n",
       "      <td>False</td>\n",
       "      <td>12</td>\n",
       "      <td>ARI</td>\n",
       "      <td>True</td>\n",
       "      <td>2</td>\n",
       "    </tr>\n",
       "    <tr>\n",
       "      <th>1</th>\n",
       "      <td>1</td>\n",
       "      <td>ATL</td>\n",
       "      <td>CHI</td>\n",
       "      <td>False</td>\n",
       "      <td>7</td>\n",
       "      <td>ATL</td>\n",
       "      <td>True</td>\n",
       "      <td>3</td>\n",
       "    </tr>\n",
       "    <tr>\n",
       "      <th>2</th>\n",
       "      <td>1</td>\n",
       "      <td>BAL</td>\n",
       "      <td>CIN</td>\n",
       "      <td>False</td>\n",
       "      <td>8</td>\n",
       "      <td>BAL</td>\n",
       "      <td>True</td>\n",
       "      <td>4</td>\n",
       "    </tr>\n",
       "    <tr>\n",
       "      <th>3</th>\n",
       "      <td>1</td>\n",
       "      <td>BUF</td>\n",
       "      <td>NYJ</td>\n",
       "      <td>True</td>\n",
       "      <td>25</td>\n",
       "      <td>BUF</td>\n",
       "      <td>True</td>\n",
       "      <td>5</td>\n",
       "    </tr>\n",
       "    <tr>\n",
       "      <th>4</th>\n",
       "      <td>1</td>\n",
       "      <td>CAR</td>\n",
       "      <td>SF</td>\n",
       "      <td>False</td>\n",
       "      <td>30</td>\n",
       "      <td>CAR</td>\n",
       "      <td>True</td>\n",
       "      <td>6</td>\n",
       "    </tr>\n",
       "    <tr>\n",
       "      <th>5</th>\n",
       "      <td>1</td>\n",
       "      <td>CHI</td>\n",
       "      <td>ATL</td>\n",
       "      <td>True</td>\n",
       "      <td>3</td>\n",
       "      <td>CHI</td>\n",
       "      <td>True</td>\n",
       "      <td>7</td>\n",
       "    </tr>\n",
       "    <tr>\n",
       "      <th>6</th>\n",
       "      <td>1</td>\n",
       "      <td>CIN</td>\n",
       "      <td>BAL</td>\n",
       "      <td>True</td>\n",
       "      <td>4</td>\n",
       "      <td>CIN</td>\n",
       "      <td>True</td>\n",
       "      <td>8</td>\n",
       "    </tr>\n",
       "    <tr>\n",
       "      <th>7</th>\n",
       "      <td>1</td>\n",
       "      <td>CLE</td>\n",
       "      <td>PIT</td>\n",
       "      <td>True</td>\n",
       "      <td>28</td>\n",
       "      <td>CLE</td>\n",
       "      <td>True</td>\n",
       "      <td>9</td>\n",
       "    </tr>\n",
       "    <tr>\n",
       "      <th>8</th>\n",
       "      <td>1</td>\n",
       "      <td>DAL</td>\n",
       "      <td>NYG</td>\n",
       "      <td>True</td>\n",
       "      <td>24</td>\n",
       "      <td>DAL</td>\n",
       "      <td>True</td>\n",
       "      <td>10</td>\n",
       "    </tr>\n",
       "    <tr>\n",
       "      <th>9</th>\n",
       "      <td>1</td>\n",
       "      <td>DEN</td>\n",
       "      <td>LAC</td>\n",
       "      <td>True</td>\n",
       "      <td>18</td>\n",
       "      <td>DEN</td>\n",
       "      <td>True</td>\n",
       "      <td>11</td>\n",
       "    </tr>\n",
       "    <tr>\n",
       "      <th>10</th>\n",
       "      <td>1</td>\n",
       "      <td>DET</td>\n",
       "      <td>ARI</td>\n",
       "      <td>True</td>\n",
       "      <td>2</td>\n",
       "      <td>DET</td>\n",
       "      <td>True</td>\n",
       "      <td>12</td>\n",
       "    </tr>\n",
       "    <tr>\n",
       "      <th>11</th>\n",
       "      <td>1</td>\n",
       "      <td>GB</td>\n",
       "      <td>SEA</td>\n",
       "      <td>True</td>\n",
       "      <td>29</td>\n",
       "      <td>GB</td>\n",
       "      <td>True</td>\n",
       "      <td>13</td>\n",
       "    </tr>\n",
       "  </tbody>\n",
       "</table>\n",
       "</div>"
      ],
      "text/plain": [
       "    week team1 team2   home  what row do we find team1 in team2  \\\n",
       "0      1   ARI   DET  False                                  12   \n",
       "1      1   ATL   CHI  False                                   7   \n",
       "2      1   BAL   CIN  False                                   8   \n",
       "3      1   BUF   NYJ   True                                  25   \n",
       "4      1   CAR    SF  False                                  30   \n",
       "5      1   CHI   ATL   True                                   3   \n",
       "6      1   CIN   BAL   True                                   4   \n",
       "7      1   CLE   PIT   True                                  28   \n",
       "8      1   DAL   NYG   True                                  24   \n",
       "9      1   DEN   LAC   True                                  18   \n",
       "10     1   DET   ARI   True                                   2   \n",
       "11     1    GB   SEA   True                                  29   \n",
       "\n",
       "   what is team 2 in the previous row  \\\n",
       "0                                 ARI   \n",
       "1                                 ATL   \n",
       "2                                 BAL   \n",
       "3                                 BUF   \n",
       "4                                 CAR   \n",
       "5                                 CHI   \n",
       "6                                 CIN   \n",
       "7                                 CLE   \n",
       "8                                 DAL   \n",
       "9                                 DEN   \n",
       "10                                DET   \n",
       "11                                 GB   \n",
       "\n",
       "    does team1 in first row = team2 in dup row?  row number  \n",
       "0                                          True           2  \n",
       "1                                          True           3  \n",
       "2                                          True           4  \n",
       "3                                          True           5  \n",
       "4                                          True           6  \n",
       "5                                          True           7  \n",
       "6                                          True           8  \n",
       "7                                          True           9  \n",
       "8                                          True          10  \n",
       "9                                          True          11  \n",
       "10                                         True          12  \n",
       "11                                         True          13  "
      ]
     },
     "execution_count": 29,
     "metadata": {},
     "output_type": "execute_result"
    }
   ],
   "source": [
    "only_week_1_df.head(12)"
   ]
  },
  {
   "cell_type": "code",
   "execution_count": 19,
   "metadata": {
    "collapsed": false
   },
   "outputs": [
    {
     "data": {
      "text/plain": [
       "288"
      ]
     },
     "execution_count": 19,
     "metadata": {},
     "output_type": "execute_result"
    }
   ],
   "source": [
    "len(nfl_csv_df[nfl_csv_df['home'] == True])"
   ]
  },
  {
   "cell_type": "code",
   "execution_count": 21,
   "metadata": {
    "collapsed": true
   },
   "outputs": [],
   "source": [
    "newDf = pd.DataFrame()"
   ]
  },
  {
   "cell_type": "code",
   "execution_count": 27,
   "metadata": {
    "collapsed": false
   },
   "outputs": [],
   "source": [
    "for row in nfl_csv_df.iterrows():\n",
    "    newDf.append(list(row))"
   ]
  },
  {
   "cell_type": "code",
   "execution_count": 28,
   "metadata": {
    "collapsed": false,
    "scrolled": true
   },
   "outputs": [
    {
     "data": {
      "text/html": [
       "<div>\n",
       "<style>\n",
       "    .dataframe thead tr:only-child th {\n",
       "        text-align: right;\n",
       "    }\n",
       "\n",
       "    .dataframe thead th {\n",
       "        text-align: left;\n",
       "    }\n",
       "\n",
       "    .dataframe tbody tr th {\n",
       "        vertical-align: top;\n",
       "    }\n",
       "</style>\n",
       "<table border=\"1\" class=\"dataframe\">\n",
       "  <thead>\n",
       "    <tr style=\"text-align: right;\">\n",
       "      <th></th>\n",
       "    </tr>\n",
       "  </thead>\n",
       "  <tbody>\n",
       "  </tbody>\n",
       "</table>\n",
       "</div>"
      ],
      "text/plain": [
       "Empty DataFrame\n",
       "Columns: []\n",
       "Index: []"
      ]
     },
     "execution_count": 28,
     "metadata": {},
     "output_type": "execute_result"
    }
   ],
   "source": [
    "newDf.head()"
   ]
  },
  {
   "cell_type": "code",
   "execution_count": null,
   "metadata": {
    "collapsed": true
   },
   "outputs": [],
   "source": []
  }
 ],
 "metadata": {
  "kernelspec": {
   "display_name": "Python 3",
   "language": "python",
   "name": "python3"
  },
  "language_info": {
   "codemirror_mode": {
    "name": "ipython",
    "version": 3
   },
   "file_extension": ".py",
   "mimetype": "text/x-python",
   "name": "python",
   "nbconvert_exporter": "python",
   "pygments_lexer": "ipython3",
   "version": "3.6.1"
  }
 },
 "nbformat": 4,
 "nbformat_minor": 2
}
