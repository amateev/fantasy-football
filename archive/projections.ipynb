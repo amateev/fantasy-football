{
 "cells": [
  {
   "cell_type": "code",
   "execution_count": 11,
   "metadata": {
    "collapsed": true
   },
   "outputs": [],
   "source": [
    "# goal of this notebook is to find the best WR, RB opportunities \n",
    "# and back test last year's results to see if it works"
   ]
  },
  {
   "cell_type": "code",
   "execution_count": 12,
   "metadata": {
    "collapsed": true
   },
   "outputs": [],
   "source": [
    "# Dependencies\n",
    "import pandas as pd\n",
    "import numpy as np"
   ]
  },
  {
   "cell_type": "code",
   "execution_count": 20,
   "metadata": {
    "collapsed": false
   },
   "outputs": [
    {
     "name": "stdout",
     "output_type": "stream",
     "text": [
      "defense-rankings.csv\r\n",
      "offense-rankings.csv\r\n",
      "offensive-line-rankings.csv\r\n",
      "teams_locations_acronyms.csv\r\n"
     ]
    }
   ],
   "source": [
    "# what csvs are available to use\n",
    "!cd csvs; ls | grep .csv"
   ]
  },
  {
   "cell_type": "code",
   "execution_count": 25,
   "metadata": {
    "collapsed": false
   },
   "outputs": [],
   "source": [
    "#!cd ./csvs/schedule-scrape/; ls\n",
    "\n",
    "# where are CSVs\n",
    "teams_csv = \"./csvs/teams_locations_acronyms.csv\"\n",
    "current_schedule_csv = \"./csvs/schedule-scrape/new-cleaned-schedule.csv\"\n",
    "defense_rankings_csv = \"./csvs/defense-rankings.csv\"\n",
    "offense_rankings_csv = \"./csvs/offense-rankings.csv\"\n",
    "ol_rankings_csv = \"./csvs/offensive-line-rankings.csv\"\n",
    "\n",
    "\n",
    "# not using now\n",
    "old_schedule_csv = \"./csvs/schedule-scrape/old-cleaned-schedule.csv\""
   ]
  },
  {
   "cell_type": "code",
   "execution_count": 19,
   "metadata": {
    "collapsed": false
   },
   "outputs": [
    {
     "data": {
      "text/html": [
       "<div>\n",
       "<style>\n",
       "    .dataframe thead tr:only-child th {\n",
       "        text-align: right;\n",
       "    }\n",
       "\n",
       "    .dataframe thead th {\n",
       "        text-align: left;\n",
       "    }\n",
       "\n",
       "    .dataframe tbody tr th {\n",
       "        vertical-align: top;\n",
       "    }\n",
       "</style>\n",
       "<table border=\"1\" class=\"dataframe\">\n",
       "  <thead>\n",
       "    <tr style=\"text-align: right;\">\n",
       "      <th></th>\n",
       "      <th>acronym</th>\n",
       "      <th>location + team</th>\n",
       "      <th>location</th>\n",
       "      <th>team</th>\n",
       "    </tr>\n",
       "  </thead>\n",
       "  <tbody>\n",
       "    <tr>\n",
       "      <th>0</th>\n",
       "      <td>ARI</td>\n",
       "      <td>Arizona Cardinals</td>\n",
       "      <td>Arizona</td>\n",
       "      <td>Cardinals</td>\n",
       "    </tr>\n",
       "    <tr>\n",
       "      <th>1</th>\n",
       "      <td>ATL</td>\n",
       "      <td>Atlanta Falcons</td>\n",
       "      <td>Atlanta</td>\n",
       "      <td>Falcons</td>\n",
       "    </tr>\n",
       "    <tr>\n",
       "      <th>2</th>\n",
       "      <td>BAL</td>\n",
       "      <td>Baltimore Ravens</td>\n",
       "      <td>Baltimore</td>\n",
       "      <td>Ravens</td>\n",
       "    </tr>\n",
       "    <tr>\n",
       "      <th>3</th>\n",
       "      <td>BUF</td>\n",
       "      <td>Buffalo Bills</td>\n",
       "      <td>Buffalo</td>\n",
       "      <td>Bills</td>\n",
       "    </tr>\n",
       "    <tr>\n",
       "      <th>4</th>\n",
       "      <td>CAR</td>\n",
       "      <td>Carolina Panthers</td>\n",
       "      <td>Carolina</td>\n",
       "      <td>Panthers</td>\n",
       "    </tr>\n",
       "  </tbody>\n",
       "</table>\n",
       "</div>"
      ],
      "text/plain": [
       "  acronym    location + team   location       team\n",
       "0     ARI  Arizona Cardinals    Arizona  Cardinals\n",
       "1     ATL    Atlanta Falcons    Atlanta    Falcons\n",
       "2     BAL   Baltimore Ravens  Baltimore     Ravens\n",
       "3     BUF      Buffalo Bills    Buffalo      Bills\n",
       "4     CAR  Carolina Panthers   Carolina   Panthers"
      ]
     },
     "execution_count": 19,
     "metadata": {},
     "output_type": "execute_result"
    }
   ],
   "source": [
    "teams_df = pd.read_csv(teams_csv, \n",
    "                       encoding=\"iso-8859-1\")\n",
    "teams_df.head()"
   ]
  },
  {
   "cell_type": "code",
   "execution_count": 26,
   "metadata": {
    "collapsed": false
   },
   "outputs": [
    {
     "data": {
      "text/html": [
       "<div>\n",
       "<style>\n",
       "    .dataframe thead tr:only-child th {\n",
       "        text-align: right;\n",
       "    }\n",
       "\n",
       "    .dataframe thead th {\n",
       "        text-align: left;\n",
       "    }\n",
       "\n",
       "    .dataframe tbody tr th {\n",
       "        vertical-align: top;\n",
       "    }\n",
       "</style>\n",
       "<table border=\"1\" class=\"dataframe\">\n",
       "  <thead>\n",
       "    <tr style=\"text-align: right;\">\n",
       "      <th></th>\n",
       "      <th>week</th>\n",
       "      <th>time</th>\n",
       "      <th>away</th>\n",
       "      <th>home</th>\n",
       "      <th>year</th>\n",
       "    </tr>\n",
       "  </thead>\n",
       "  <tbody>\n",
       "    <tr>\n",
       "      <th>0</th>\n",
       "      <td>1</td>\n",
       "      <td>8:30 PM</td>\n",
       "      <td>Chiefs</td>\n",
       "      <td>Patriots</td>\n",
       "      <td>2017</td>\n",
       "    </tr>\n",
       "    <tr>\n",
       "      <th>1</th>\n",
       "      <td>1</td>\n",
       "      <td>1:00 PM</td>\n",
       "      <td>Jets</td>\n",
       "      <td>Bills</td>\n",
       "      <td>2017</td>\n",
       "    </tr>\n",
       "    <tr>\n",
       "      <th>2</th>\n",
       "      <td>1</td>\n",
       "      <td>1:00 PM</td>\n",
       "      <td>Eagles</td>\n",
       "      <td>Redskins</td>\n",
       "      <td>2017</td>\n",
       "    </tr>\n",
       "    <tr>\n",
       "      <th>3</th>\n",
       "      <td>1</td>\n",
       "      <td>1:00 PM</td>\n",
       "      <td>Raiders</td>\n",
       "      <td>Titans</td>\n",
       "      <td>2017</td>\n",
       "    </tr>\n",
       "    <tr>\n",
       "      <th>4</th>\n",
       "      <td>1</td>\n",
       "      <td>1:00 PM</td>\n",
       "      <td>Buccaneers</td>\n",
       "      <td>Dolphins</td>\n",
       "      <td>2017</td>\n",
       "    </tr>\n",
       "  </tbody>\n",
       "</table>\n",
       "</div>"
      ],
      "text/plain": [
       "   week     time        away      home  year\n",
       "0     1  8:30 PM      Chiefs  Patriots  2017\n",
       "1     1  1:00 PM        Jets     Bills  2017\n",
       "2     1  1:00 PM      Eagles  Redskins  2017\n",
       "3     1  1:00 PM     Raiders    Titans  2017\n",
       "4     1  1:00 PM  Buccaneers  Dolphins  2017"
      ]
     },
     "execution_count": 26,
     "metadata": {},
     "output_type": "execute_result"
    }
   ],
   "source": [
    "current_schedule_df = pd.read_csv(current_schedule_csv, \n",
    "                                  encoding=\"iso-8859-1\", low_memory=\"False\")\n",
    "current_schedule_df.head()"
   ]
  },
  {
   "cell_type": "code",
   "execution_count": null,
   "metadata": {
    "collapsed": false
   },
   "outputs": [],
   "source": [
    "defense_rankings_df = pd.read_csv(defense_rankings_csv, \n",
    "                                  sep='\\t', \n",
    "                                  encoding=\"iso-8859-1\", \n",
    "                                  low_memory=\"False\").rename(\n",
    "    columns={'team': 'acronym', 'ranking': 'defense_ranking'})\n",
    "defense_rankings_df.head()"
   ]
  },
  {
   "cell_type": "code",
   "execution_count": null,
   "metadata": {
    "collapsed": false
   },
   "outputs": [],
   "source": [
    "offense_rankings_df = pd.read_csv(offense_rankings_csv, sep='\\t', \n",
    "                                  encoding=\"iso-8859-1\", low_memory=\"False\")\n",
    "offense_rankings_df.head()"
   ]
  },
  {
   "cell_type": "code",
   "execution_count": null,
   "metadata": {
    "collapsed": false
   },
   "outputs": [],
   "source": [
    "ol_rankings_df = pd.read_csv(ol_rankings_csv, sep='\\t', \n",
    "                             encoding=\"iso-8859-1\", low_memory=\"False\")\n",
    "ol_rankings_df.head()"
   ]
  },
  {
   "cell_type": "code",
   "execution_count": 27,
   "metadata": {
    "collapsed": false
   },
   "outputs": [
    {
     "data": {
      "text/html": [
       "<div>\n",
       "<style>\n",
       "    .dataframe thead tr:only-child th {\n",
       "        text-align: right;\n",
       "    }\n",
       "\n",
       "    .dataframe thead th {\n",
       "        text-align: left;\n",
       "    }\n",
       "\n",
       "    .dataframe tbody tr th {\n",
       "        vertical-align: top;\n",
       "    }\n",
       "</style>\n",
       "<table border=\"1\" class=\"dataframe\">\n",
       "  <thead>\n",
       "    <tr style=\"text-align: right;\">\n",
       "      <th></th>\n",
       "      <th>away_acronym</th>\n",
       "      <th>week</th>\n",
       "      <th>away</th>\n",
       "      <th>home</th>\n",
       "    </tr>\n",
       "  </thead>\n",
       "  <tbody>\n",
       "    <tr>\n",
       "      <th>0</th>\n",
       "      <td>ARI</td>\n",
       "      <td>1</td>\n",
       "      <td>Cardinals</td>\n",
       "      <td>Lions</td>\n",
       "    </tr>\n",
       "    <tr>\n",
       "      <th>1</th>\n",
       "      <td>ARI</td>\n",
       "      <td>2</td>\n",
       "      <td>Cardinals</td>\n",
       "      <td>Colts</td>\n",
       "    </tr>\n",
       "    <tr>\n",
       "      <th>2</th>\n",
       "      <td>ARI</td>\n",
       "      <td>5</td>\n",
       "      <td>Cardinals</td>\n",
       "      <td>Eagles</td>\n",
       "    </tr>\n",
       "    <tr>\n",
       "      <th>3</th>\n",
       "      <td>ARI</td>\n",
       "      <td>7</td>\n",
       "      <td>Cardinals</td>\n",
       "      <td>Rams</td>\n",
       "    </tr>\n",
       "    <tr>\n",
       "      <th>4</th>\n",
       "      <td>ARI</td>\n",
       "      <td>9</td>\n",
       "      <td>Cardinals</td>\n",
       "      <td>49ers</td>\n",
       "    </tr>\n",
       "  </tbody>\n",
       "</table>\n",
       "</div>"
      ],
      "text/plain": [
       "  away_acronym  week       away    home\n",
       "0          ARI     1  Cardinals   Lions\n",
       "1          ARI     2  Cardinals   Colts\n",
       "2          ARI     5  Cardinals  Eagles\n",
       "3          ARI     7  Cardinals    Rams\n",
       "4          ARI     9  Cardinals   49ers"
      ]
     },
     "execution_count": 27,
     "metadata": {},
     "output_type": "execute_result"
    }
   ],
   "source": [
    "cur_sched_w_acr = pd.merge(teams_df[['acronym','team']], \n",
    "                           current_schedule_df[['week', 'away', 'home']], \n",
    "                           how='left', left_on=['team'], right_on=['away']).rename(\n",
    "    columns={'acronym': 'away_acronym'})[['away_acronym', 'week', \n",
    "                                          'away', 'home']]\n",
    "\n",
    "cur_sched_w_acr.head()"
   ]
  },
  {
   "cell_type": "code",
   "execution_count": 28,
   "metadata": {
    "collapsed": false
   },
   "outputs": [
    {
     "data": {
      "text/html": [
       "<div>\n",
       "<style>\n",
       "    .dataframe thead tr:only-child th {\n",
       "        text-align: right;\n",
       "    }\n",
       "\n",
       "    .dataframe thead th {\n",
       "        text-align: left;\n",
       "    }\n",
       "\n",
       "    .dataframe tbody tr th {\n",
       "        vertical-align: top;\n",
       "    }\n",
       "</style>\n",
       "<table border=\"1\" class=\"dataframe\">\n",
       "  <thead>\n",
       "    <tr style=\"text-align: right;\">\n",
       "      <th></th>\n",
       "      <th>week</th>\n",
       "      <th>away</th>\n",
       "      <th>away_acronym</th>\n",
       "      <th>home_acronym</th>\n",
       "      <th>home</th>\n",
       "    </tr>\n",
       "  </thead>\n",
       "  <tbody>\n",
       "    <tr>\n",
       "      <th>0</th>\n",
       "      <td>1</td>\n",
       "      <td>Cardinals</td>\n",
       "      <td>ARI</td>\n",
       "      <td>DET</td>\n",
       "      <td>Lions</td>\n",
       "    </tr>\n",
       "    <tr>\n",
       "      <th>1</th>\n",
       "      <td>2</td>\n",
       "      <td>Cardinals</td>\n",
       "      <td>ARI</td>\n",
       "      <td>IND</td>\n",
       "      <td>Colts</td>\n",
       "    </tr>\n",
       "    <tr>\n",
       "      <th>2</th>\n",
       "      <td>5</td>\n",
       "      <td>Cardinals</td>\n",
       "      <td>ARI</td>\n",
       "      <td>PHI</td>\n",
       "      <td>Eagles</td>\n",
       "    </tr>\n",
       "    <tr>\n",
       "      <th>3</th>\n",
       "      <td>7</td>\n",
       "      <td>Cardinals</td>\n",
       "      <td>ARI</td>\n",
       "      <td>STL</td>\n",
       "      <td>Rams</td>\n",
       "    </tr>\n",
       "    <tr>\n",
       "      <th>4</th>\n",
       "      <td>7</td>\n",
       "      <td>Cardinals</td>\n",
       "      <td>ARI</td>\n",
       "      <td>LAR</td>\n",
       "      <td>Rams</td>\n",
       "    </tr>\n",
       "  </tbody>\n",
       "</table>\n",
       "</div>"
      ],
      "text/plain": [
       "   week       away away_acronym home_acronym    home\n",
       "0     1  Cardinals          ARI          DET   Lions\n",
       "1     2  Cardinals          ARI          IND   Colts\n",
       "2     5  Cardinals          ARI          PHI  Eagles\n",
       "3     7  Cardinals          ARI          STL    Rams\n",
       "4     7  Cardinals          ARI          LAR    Rams"
      ]
     },
     "execution_count": 28,
     "metadata": {},
     "output_type": "execute_result"
    }
   ],
   "source": [
    "# have to merge again to itself to get the home team's acronym\n",
    "cur_sched_w_acr = cur_sched_w_acr.merge(teams_df[['acronym','team']], \n",
    "                      how='left', \n",
    "                      left_on=['home'], \n",
    "                      right_on=['team']).rename(columns={\n",
    "    'acronym': 'home_acronym'})[['week', 'away', 'away_acronym','home_acronym','home']]\n",
    "\n",
    "cur_sched_w_acr.head()"
   ]
  },
  {
   "cell_type": "code",
   "execution_count": 48,
   "metadata": {
    "collapsed": false
   },
   "outputs": [
    {
     "data": {
      "text/html": [
       "<div>\n",
       "<style>\n",
       "    .dataframe thead tr:only-child th {\n",
       "        text-align: right;\n",
       "    }\n",
       "\n",
       "    .dataframe thead th {\n",
       "        text-align: left;\n",
       "    }\n",
       "\n",
       "    .dataframe tbody tr th {\n",
       "        vertical-align: top;\n",
       "    }\n",
       "</style>\n",
       "<table border=\"1\" class=\"dataframe\">\n",
       "  <thead>\n",
       "    <tr style=\"text-align: right;\">\n",
       "      <th></th>\n",
       "      <th>week</th>\n",
       "      <th>away_acronym</th>\n",
       "      <th>away</th>\n",
       "      <th>home</th>\n",
       "      <th>away_defense_ranking</th>\n",
       "    </tr>\n",
       "  </thead>\n",
       "  <tbody>\n",
       "    <tr>\n",
       "      <th>0</th>\n",
       "      <td>1</td>\n",
       "      <td>ARI</td>\n",
       "      <td>Cardinals</td>\n",
       "      <td>Lions</td>\n",
       "      <td>9.0</td>\n",
       "    </tr>\n",
       "    <tr>\n",
       "      <th>1</th>\n",
       "      <td>2</td>\n",
       "      <td>ARI</td>\n",
       "      <td>Cardinals</td>\n",
       "      <td>Colts</td>\n",
       "      <td>9.0</td>\n",
       "    </tr>\n",
       "    <tr>\n",
       "      <th>2</th>\n",
       "      <td>5</td>\n",
       "      <td>ARI</td>\n",
       "      <td>Cardinals</td>\n",
       "      <td>Eagles</td>\n",
       "      <td>9.0</td>\n",
       "    </tr>\n",
       "    <tr>\n",
       "      <th>3</th>\n",
       "      <td>7</td>\n",
       "      <td>ARI</td>\n",
       "      <td>Cardinals</td>\n",
       "      <td>Rams</td>\n",
       "      <td>9.0</td>\n",
       "    </tr>\n",
       "    <tr>\n",
       "      <th>4</th>\n",
       "      <td>9</td>\n",
       "      <td>ARI</td>\n",
       "      <td>Cardinals</td>\n",
       "      <td>49ers</td>\n",
       "      <td>9.0</td>\n",
       "    </tr>\n",
       "  </tbody>\n",
       "</table>\n",
       "</div>"
      ],
      "text/plain": [
       "   week away_acronym       away    home  away_defense_ranking\n",
       "0     1          ARI  Cardinals   Lions                   9.0\n",
       "1     2          ARI  Cardinals   Colts                   9.0\n",
       "2     5          ARI  Cardinals  Eagles                   9.0\n",
       "3     7          ARI  Cardinals    Rams                   9.0\n",
       "4     9          ARI  Cardinals   49ers                   9.0"
      ]
     },
     "execution_count": 48,
     "metadata": {},
     "output_type": "execute_result"
    }
   ],
   "source": [
    "cur_sched_w_acr_wdef = cur_sched_w_acr.merge(defense_rankings_df[['acronym', \n",
    "                                                                  'defense_ranking']], \n",
    "                                             how='left', \n",
    "                                             left_on=['away_acronym'], \n",
    "                                             right_on=['acronym']).rename(columns={\n",
    "    'defense_ranking': 'away_defense_ranking'})\n",
    "\n",
    "cur_sched_w_acr_wdef[['week', 'away_acronym', 'away', 'home', 'away_defense_ranking']].head()"
   ]
  },
  {
   "cell_type": "code",
   "execution_count": 14,
   "metadata": {
    "collapsed": false
   },
   "outputs": [],
   "source": [
    "# all of cardinals games\n",
    "#cur_sched_w_acr[(cur_sched_w_acr['away'] == 'Cardinals') | (cur_sched_w_acr['home'] == 'Cardinals')]"
   ]
  },
  {
   "cell_type": "code",
   "execution_count": null,
   "metadata": {
    "collapsed": false
   },
   "outputs": [],
   "source": []
  },
  {
   "cell_type": "code",
   "execution_count": null,
   "metadata": {
    "collapsed": false
   },
   "outputs": [],
   "source": [
    "\n"
   ]
  },
  {
   "cell_type": "code",
   "execution_count": null,
   "metadata": {
    "collapsed": true
   },
   "outputs": [],
   "source": []
  },
  {
   "cell_type": "code",
   "execution_count": null,
   "metadata": {
    "collapsed": true
   },
   "outputs": [],
   "source": []
  },
  {
   "cell_type": "code",
   "execution_count": null,
   "metadata": {
    "collapsed": true
   },
   "outputs": [],
   "source": []
  }
 ],
 "metadata": {
  "kernelspec": {
   "display_name": "Python 3",
   "language": "python",
   "name": "python3"
  },
  "language_info": {
   "codemirror_mode": {
    "name": "ipython",
    "version": 3
   },
   "file_extension": ".py",
   "mimetype": "text/x-python",
   "name": "python",
   "nbconvert_exporter": "python",
   "pygments_lexer": "ipython3",
   "version": "3.6.1"
  }
 },
 "nbformat": 4,
 "nbformat_minor": 2
}
